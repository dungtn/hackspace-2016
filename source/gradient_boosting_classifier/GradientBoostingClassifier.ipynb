{
 "cells": [
  {
   "cell_type": "markdown",
   "metadata": {},
   "source": [
    "# NEOs and PHAs Classify using Grandient Booting Classifier\n",
    "\n",
    "## 1. Data\n",
    "\n",
    "We use the dataset of \"Orbits for all asteroids in the MPC database\" from the Minor Planet Center to train and test the model [http://www.minorplanetcenter.net/data]\n",
    "\n",
    "Dataset Description:\n",
    "    \n",
    "    - Total number of columns: 37\n",
    "    \n",
    "    - Total number of usage features: 16\n",
    "    \n",
    "    - Number of classes: 3 \n",
    "        + Potentially Hazardous Asteroids(PHAs) - Label(2): 1671 records\n",
    "        + Near Earth Objects(NEOs) - Label(1): 12509 records\n",
    "        + Others - Label(0): 699401 records\n"
   ]
  },
  {
   "cell_type": "code",
   "execution_count": 4,
   "metadata": {
    "collapsed": false
   },
   "outputs": [],
   "source": [
    "import pandas as pd\n",
    "\n",
    "TRAINING_FILE = 'mpcorb_extended.json'\n",
    "\n",
    "TRAINING_HEADER = [\n",
    "    'Num_obs',\n",
    "    'Synodic_period',\n",
    "    'Aphelion_dist',\n",
    "    'Node',\n",
    "    'H',\n",
    "    'rms',\n",
    "    'n',\n",
    "    'Num_opps',\n",
    "    'Orbital_period',\n",
    "    'Peri',\n",
    "    \"G\",\n",
    "    \"e\",\n",
    "    \"Epoch\",\n",
    "    \"Semilatus_rectum\",\n",
    "    \"i\",\n",
    "    \"a\",\n",
    "]\n",
    "\n",
    "IGNORE_HEADER = [\n",
    "    \"Name\",\n",
    "    \"Perturbers_2\",\n",
    "    \"Ref\",\n",
    "    \"NEO_flag\",\n",
    "    \"Perturbers\",\n",
    "    \"Computer\",\n",
    "    \"Number\",\n",
    "    \"One_km_NEO_flag\",\n",
    "    \"PHA_flag\",\n",
    "    \"Principal_desig\",\n",
    "    \"Arc_years\",\n",
    "    \"Last_obs\",\n",
    "    \"Hex_flags\",\n",
    "    \"Other_desigs\",\n",
    "    \"U\"\n",
    "]\n",
    "\n",
    "\n",
    "# read training file\n",
    "df = pd.read_json(TRAINING_FILE)\n",
    "# replace NaN value by 0\n",
    "df.fillna(0, inplace=True)\n",
    "\n",
    "### get label ###\n",
    "label_NEO_flag = df['NEO_flag']\n",
    "label_PHA = df['PHA_flag']\n",
    "\n",
    "label = label_NEO_flag + label_PHA\n",
    "\n",
    "# remove ignore header\n",
    "df.drop(IGNORE_HEADER, axis=1, inplace=True)\n",
    "### get data ###\n",
    "data = df\n",
    "\n"
   ]
  },
  {
   "cell_type": "markdown",
   "metadata": {},
   "source": [
    "## 2. Gradient Boosting Classifier\n",
    "\n",
    "\"Gradient boosting is a machine learning technique for regression and classification problems, which produces a prediction model in the form of an ensemble of weak prediction models, typically decision trees. It builds the model in a stage-wise fashion like other boosting methods do, and it generalizes them by allowing optimization of an arbitrary differentiable loss function...\" [Wikipedia]\n",
    "\n",
    "We use the implementation of GradientBoostingClassifier from the Scikit-learn toolkit.\n",
    "\n",
    "The dataset is splited into 70% for training and 30% for testing. "
   ]
  },
  {
   "cell_type": "code",
   "execution_count": 5,
   "metadata": {
    "collapsed": false
   },
   "outputs": [
    {
     "data": {
      "text/plain": [
       "GradientBoostingClassifier(init=None, learning_rate=0.1, loss='deviance',\n",
       "              max_depth=3, max_features=None, max_leaf_nodes=None,\n",
       "              min_samples_leaf=1, min_samples_split=2,\n",
       "              min_weight_fraction_leaf=0.0, n_estimators=200,\n",
       "              presort='auto', random_state=None, subsample=1.0, verbose=0,\n",
       "              warm_start=False)"
      ]
     },
     "execution_count": 5,
     "metadata": {},
     "output_type": "execute_result"
    }
   ],
   "source": [
    "from sklearn.ensemble import GradientBoostingClassifier\n",
    "from sklearn.cross_validation import train_test_split\n",
    "from sklearn.metrics import f1_score\n",
    "\n",
    "X_train, X_test, y_train, y_test = train_test_split(data, label, test_size=0.3, random_state=42)\n",
    "\n",
    "# fit estimator\n",
    "multi_classifier = GradientBoostingClassifier(n_estimators=200, max_depth=3)\n",
    "multi_classifier.fit(X_train, y_train)\n",
    "\n"
   ]
  },
  {
   "cell_type": "code",
   "execution_count": 8,
   "metadata": {
    "collapsed": false
   },
   "outputs": [
    {
     "name": "stdout",
     "output_type": "stream",
     "text": [
      "ACC: 0.99851\n",
      "F1-Score for each class:\n",
      "[ 0.99997856  0.95815789  0.635183  ]\n"
     ]
    }
   ],
   "source": [
    "# predict class labels\n",
    "y_pred = multi_classifier.predict(X_test)\n",
    "\n",
    "# score on test data (accuracy)\n",
    "accuracy = multi_classifier.score(X_test, y_test)\n",
    "print('ACC: %.5f' % accuracy)\n",
    "\n",
    "# predict class probabilities\n",
    "\n",
    "print ('F1-Score for each class:')\n",
    "print f1_score(y_test, y_pred, average = None)\n"
   ]
  },
  {
   "cell_type": "markdown",
   "metadata": {},
   "source": [
    "Result:\n",
    "    - Total Accuracy: 0.99851\n",
    "    - F1-Score for each class:\n",
    "        + PHAs: 0.99998\n",
    "        + NEOs: 0.95816\n",
    "        + Others: 0.63518"
   ]
  },
  {
   "cell_type": "markdown",
   "metadata": {},
   "source": [
    "We also show the chart of important feartures extracted from the training data: "
   ]
  },
  {
   "cell_type": "code",
   "execution_count": 11,
   "metadata": {
    "collapsed": false
   },
   "outputs": [
    {
     "name": "stdout",
     "output_type": "stream",
     "text": [
      "Populating the interactive namespace from numpy and matplotlib\n"
     ]
    },
    {
     "data": {
      "text/plain": [
       "<matplotlib.axes._subplots.AxesSubplot at 0x63c36c50>"
      ]
     },
     "execution_count": 11,
     "metadata": {},
     "output_type": "execute_result"
    },
    {
     "data": {
      "image/png": "[encoded data removed]",
      "text/plain": [
       "<matplotlib.figure.Figure at 0x4a1c9828>"
      ]
     },
     "metadata": {},
     "output_type": "display_data"
    }
   ],
   "source": [
    "%pylab inline\n",
    "\n",
    "# Important features visualization\n",
    "names = df.columns.values\n",
    "fx_imp = pd.Series(multi_classifier.feature_importances_, index=names)\n",
    "fx_imp /= fx_imp.max()  # normalize\n",
    "fx_imp.sort_values(inplace=True)\n",
    "fx_imp.plot(kind='barh', figsize=(11,7))\n"
   ]
  }
 ],
 "metadata": {
  "kernelspec": {
   "display_name": "Python 2",
   "language": "python",
   "name": "python2"
  },
  "language_info": {
   "codemirror_mode": {
    "name": "ipython",
    "version": 2
   },
   "file_extension": ".py",
   "mimetype": "text/x-python",
   "name": "python",
   "nbconvert_exporter": "python",
   "pygments_lexer": "ipython2",
   "version": "2.7.11"
  }
 },
 "nbformat": 4,
 "nbformat_minor": 0
}
